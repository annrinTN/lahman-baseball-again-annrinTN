{
 "cells": [
  {
   "cell_type": "markdown",
   "metadata": {},
   "source": [
    "# Dual view of Python and SQL "
   ]
  },
  {
   "cell_type": "code",
   "execution_count": 1,
   "metadata": {},
   "outputs": [
    {
     "data": {
      "text/html": [
       "<div>\n",
       "<style scoped>\n",
       "    .dataframe tbody tr th:only-of-type {\n",
       "        vertical-align: middle;\n",
       "    }\n",
       "\n",
       "    .dataframe tbody tr th {\n",
       "        vertical-align: top;\n",
       "    }\n",
       "\n",
       "    .dataframe thead th {\n",
       "        text-align: right;\n",
       "    }\n",
       "</style>\n",
       "<table border=\"1\" class=\"dataframe\">\n",
       "  <thead>\n",
       "    <tr style=\"text-align: right;\">\n",
       "      <th></th>\n",
       "      <th>playerid</th>\n",
       "      <th>yearid</th>\n",
       "      <th>stint</th>\n",
       "      <th>teamid</th>\n",
       "      <th>lgid</th>\n",
       "      <th>g</th>\n",
       "      <th>ab</th>\n",
       "      <th>r</th>\n",
       "      <th>h</th>\n",
       "      <th>h2b</th>\n",
       "      <th>...</th>\n",
       "      <th>rbi</th>\n",
       "      <th>sb</th>\n",
       "      <th>cs</th>\n",
       "      <th>bb</th>\n",
       "      <th>so</th>\n",
       "      <th>ibb</th>\n",
       "      <th>hbp</th>\n",
       "      <th>sh</th>\n",
       "      <th>sf</th>\n",
       "      <th>gidp</th>\n",
       "    </tr>\n",
       "  </thead>\n",
       "  <tbody>\n",
       "    <tr>\n",
       "      <th>0</th>\n",
       "      <td>abercda01</td>\n",
       "      <td>1871</td>\n",
       "      <td>1</td>\n",
       "      <td>TRO</td>\n",
       "      <td>NA</td>\n",
       "      <td>1</td>\n",
       "      <td>4</td>\n",
       "      <td>0</td>\n",
       "      <td>0</td>\n",
       "      <td>0</td>\n",
       "      <td>...</td>\n",
       "      <td>0.0</td>\n",
       "      <td>0.0</td>\n",
       "      <td>0.0</td>\n",
       "      <td>0</td>\n",
       "      <td>0.0</td>\n",
       "      <td>NaN</td>\n",
       "      <td>NaN</td>\n",
       "      <td>NaN</td>\n",
       "      <td>NaN</td>\n",
       "      <td>NaN</td>\n",
       "    </tr>\n",
       "    <tr>\n",
       "      <th>1</th>\n",
       "      <td>addybo01</td>\n",
       "      <td>1871</td>\n",
       "      <td>1</td>\n",
       "      <td>RC1</td>\n",
       "      <td>NA</td>\n",
       "      <td>25</td>\n",
       "      <td>118</td>\n",
       "      <td>30</td>\n",
       "      <td>32</td>\n",
       "      <td>6</td>\n",
       "      <td>...</td>\n",
       "      <td>13.0</td>\n",
       "      <td>8.0</td>\n",
       "      <td>1.0</td>\n",
       "      <td>4</td>\n",
       "      <td>0.0</td>\n",
       "      <td>NaN</td>\n",
       "      <td>NaN</td>\n",
       "      <td>NaN</td>\n",
       "      <td>NaN</td>\n",
       "      <td>NaN</td>\n",
       "    </tr>\n",
       "    <tr>\n",
       "      <th>2</th>\n",
       "      <td>allisar01</td>\n",
       "      <td>1871</td>\n",
       "      <td>1</td>\n",
       "      <td>CL1</td>\n",
       "      <td>NA</td>\n",
       "      <td>29</td>\n",
       "      <td>137</td>\n",
       "      <td>28</td>\n",
       "      <td>40</td>\n",
       "      <td>4</td>\n",
       "      <td>...</td>\n",
       "      <td>19.0</td>\n",
       "      <td>3.0</td>\n",
       "      <td>1.0</td>\n",
       "      <td>2</td>\n",
       "      <td>5.0</td>\n",
       "      <td>NaN</td>\n",
       "      <td>NaN</td>\n",
       "      <td>NaN</td>\n",
       "      <td>NaN</td>\n",
       "      <td>NaN</td>\n",
       "    </tr>\n",
       "    <tr>\n",
       "      <th>3</th>\n",
       "      <td>allisdo01</td>\n",
       "      <td>1871</td>\n",
       "      <td>1</td>\n",
       "      <td>WS3</td>\n",
       "      <td>NA</td>\n",
       "      <td>27</td>\n",
       "      <td>133</td>\n",
       "      <td>28</td>\n",
       "      <td>44</td>\n",
       "      <td>10</td>\n",
       "      <td>...</td>\n",
       "      <td>27.0</td>\n",
       "      <td>1.0</td>\n",
       "      <td>1.0</td>\n",
       "      <td>0</td>\n",
       "      <td>2.0</td>\n",
       "      <td>NaN</td>\n",
       "      <td>NaN</td>\n",
       "      <td>NaN</td>\n",
       "      <td>NaN</td>\n",
       "      <td>NaN</td>\n",
       "    </tr>\n",
       "    <tr>\n",
       "      <th>4</th>\n",
       "      <td>ansonca01</td>\n",
       "      <td>1871</td>\n",
       "      <td>1</td>\n",
       "      <td>RC1</td>\n",
       "      <td>NA</td>\n",
       "      <td>25</td>\n",
       "      <td>120</td>\n",
       "      <td>29</td>\n",
       "      <td>39</td>\n",
       "      <td>11</td>\n",
       "      <td>...</td>\n",
       "      <td>16.0</td>\n",
       "      <td>6.0</td>\n",
       "      <td>2.0</td>\n",
       "      <td>2</td>\n",
       "      <td>1.0</td>\n",
       "      <td>NaN</td>\n",
       "      <td>NaN</td>\n",
       "      <td>NaN</td>\n",
       "      <td>NaN</td>\n",
       "      <td>NaN</td>\n",
       "    </tr>\n",
       "  </tbody>\n",
       "</table>\n",
       "<p>5 rows × 22 columns</p>\n",
       "</div>"
      ],
      "text/plain": [
       "    playerid  yearid  stint teamid lgid   g   ab   r   h  h2b  ...   rbi   sb  \\\n",
       "0  abercda01    1871      1    TRO   NA   1    4   0   0    0  ...   0.0  0.0   \n",
       "1   addybo01    1871      1    RC1   NA  25  118  30  32    6  ...  13.0  8.0   \n",
       "2  allisar01    1871      1    CL1   NA  29  137  28  40    4  ...  19.0  3.0   \n",
       "3  allisdo01    1871      1    WS3   NA  27  133  28  44   10  ...  27.0  1.0   \n",
       "4  ansonca01    1871      1    RC1   NA  25  120  29  39   11  ...  16.0  6.0   \n",
       "\n",
       "    cs  bb   so  ibb  hbp  sh  sf  gidp  \n",
       "0  0.0   0  0.0  NaN  NaN NaN NaN   NaN  \n",
       "1  1.0   4  0.0  NaN  NaN NaN NaN   NaN  \n",
       "2  1.0   2  5.0  NaN  NaN NaN NaN   NaN  \n",
       "3  1.0   0  2.0  NaN  NaN NaN NaN   NaN  \n",
       "4  2.0   2  1.0  NaN  NaN NaN NaN   NaN  \n",
       "\n",
       "[5 rows x 22 columns]"
      ]
     },
     "execution_count": 1,
     "metadata": {},
     "output_type": "execute_result"
    }
   ],
   "source": [
    "import os\n",
    "\n",
    "import pandas as pd\n",
    "from sqlalchemy import create_engine\n",
    "import numpy as np\n",
    "\n",
    "creds = \"\"\"\n",
    "POSTGRES_USERNAME=postgres\n",
    "POSTGRES_PASSWORD=postgres\n",
    "\"\"\"\n",
    "\n",
    "with open('./.env', 'w') as f:\n",
    "    f.write(creds)\n",
    "\n",
    "postgres_connection_string = \"postgres://{username}:{password}@{host}:{port}/{database}?gssencmode=disable\".format(\n",
    "    username=\"postgres\",\n",
    "    password=\"postgres\",\n",
    "    host=\"localhost\",\n",
    "    port=\"5432\",\n",
    "    database=\"lahman_baseball\"\n",
    ")\n",
    "\n",
    "engine = create_engine(postgres_connection_string)\n",
    "\n",
    "batting_sql = \"SELECT * FROM batting;\"\n",
    "\n",
    "# use the connection to run a query using pandas!\n",
    "batting_df = pd.read_sql(batting_sql, con=engine)\n",
    "batting_df.head()"
   ]
  },
  {
   "cell_type": "code",
   "execution_count": 2,
   "metadata": {},
   "outputs": [],
   "source": [
    "# Clean-up the engine when done\n",
    "engine.dispose()"
   ]
  },
  {
   "cell_type": "code",
   "execution_count": 3,
   "metadata": {},
   "outputs": [
    {
     "data": {
      "text/plain": [
       "playerid     object\n",
       "yearid        int64\n",
       "stint         int64\n",
       "teamid       object\n",
       "lgid         object\n",
       "g             int64\n",
       "ab            int64\n",
       "r             int64\n",
       "h             int64\n",
       "h2b           int64\n",
       "h3b           int64\n",
       "hr            int64\n",
       "rbi         float64\n",
       "sb          float64\n",
       "cs          float64\n",
       "bb            int64\n",
       "so          float64\n",
       "ibb         float64\n",
       "hbp         float64\n",
       "sh          float64\n",
       "sf          float64\n",
       "gidp        float64\n",
       "dtype: object"
      ]
     },
     "execution_count": 3,
     "metadata": {},
     "output_type": "execute_result"
    }
   ],
   "source": [
    "# study the columns and dtypes of batting_df\n",
    "batting_df.dtypes"
   ]
  },
  {
   "cell_type": "code",
   "execution_count": 4,
   "metadata": {},
   "outputs": [
    {
     "name": "stdout",
     "output_type": "stream",
     "text": [
      "2016\n"
     ]
    }
   ],
   "source": [
    "# Question 1 What range of years does the provided database cover?\n",
    "# learned from prior research that batting fielding and pitching tables have the 'yearid' field\n",
    "max_year=batting_df.yearid.max()\n",
    "print(max_year)"
   ]
  },
  {
   "cell_type": "code",
   "execution_count": 5,
   "metadata": {},
   "outputs": [
    {
     "name": "stdout",
     "output_type": "stream",
     "text": [
      "1871\n"
     ]
    }
   ],
   "source": [
    "min_year=batting_df.yearid.min()\n",
    "print(min_year)"
   ]
  },
  {
   "cell_type": "markdown",
   "metadata": {},
   "source": [
    "## Question 1 The range of years is 1871 to 2016 from the batting_df field: yearid"
   ]
  },
  {
   "cell_type": "markdown",
   "metadata": {},
   "source": [
    "# For the next questions bring in more dataframes"
   ]
  },
  {
   "cell_type": "code",
   "execution_count": 6,
   "metadata": {},
   "outputs": [],
   "source": [
    "appearances_sql = \"SELECT * FROM appearances;\"\n",
    "appearances_df = pd.read_sql(appearances_sql, con=engine)"
   ]
  },
  {
   "cell_type": "code",
   "execution_count": 7,
   "metadata": {},
   "outputs": [],
   "source": [
    "people_sql = \"SELECT * FROM people;\"\n",
    "people_df = pd.read_sql(people_sql, con=engine)"
   ]
  },
  {
   "cell_type": "code",
   "execution_count": 8,
   "metadata": {},
   "outputs": [],
   "source": [
    "fielding_sql = \"SELECT * FROM fielding;\"\n",
    "fielding_df = pd.read_sql(fielding_sql, con=engine)"
   ]
  },
  {
   "cell_type": "code",
   "execution_count": 9,
   "metadata": {},
   "outputs": [],
   "source": [
    "pitching_sql = \"SELECT * FROM pitching;\"\n",
    "pitching_df = pd.read_sql(pitching_sql, con=engine)"
   ]
  },
  {
   "cell_type": "code",
   "execution_count": 10,
   "metadata": {},
   "outputs": [],
   "source": [
    "teams_sql = \"SELECT * FROM teams;\"\n",
    "teams_df = pd.read_sql(teams_sql, con=engine)"
   ]
  },
  {
   "cell_type": "code",
   "execution_count": 20,
   "metadata": {},
   "outputs": [],
   "source": [
    "salaries_sql = \"SELECT * FROM salaries;\"\n",
    "salaries_df = pd.read_sql(salaries_sql, con=engine)\n",
    "schools_sql = \"SELECT * FROM schools;\"\n",
    "schools_df = pd.read_sql(schools_sql, con=engine)\n",
    "collegeplaying_sql = \"SELECT * FROM collegeplaying;\"\n",
    "collegeplaying_df = pd.read_sql(collegeplaying_sql, con=engine)"
   ]
  },
  {
   "cell_type": "code",
   "execution_count": 11,
   "metadata": {},
   "outputs": [],
   "source": [
    "# Question 2 Find the name and height of the shortest player in the database. How many games did he play in? \n",
    "# What is the name of the team for which he played?\n",
    "\n",
    "# learned from prior research that tables: people appearances and teams hold this info\n",
    "# namefirst namelast player id and height from people\n",
    "# playerid teamid g_all from appearances\n",
    "# teamid name from teams"
   ]
  },
  {
   "cell_type": "code",
   "execution_count": 12,
   "metadata": {},
   "outputs": [
    {
     "data": {
      "text/plain": [
       "Index(['playerid', 'birthyear', 'birthmonth', 'birthday', 'birthcountry',\n",
       "       'birthstate', 'birthcity', 'deathyear', 'deathmonth', 'deathday',\n",
       "       'deathcountry', 'deathstate', 'deathcity', 'namefirst', 'namelast',\n",
       "       'namegiven', 'weight', 'height', 'bats', 'throws', 'debut', 'finalgame',\n",
       "       'retroid', 'bbrefid'],\n",
       "      dtype='object')"
      ]
     },
     "execution_count": 12,
     "metadata": {},
     "output_type": "execute_result"
    }
   ],
   "source": [
    "# Get columns from tables\n",
    "people_df.columns"
   ]
  },
  {
   "cell_type": "code",
   "execution_count": 13,
   "metadata": {},
   "outputs": [
    {
     "data": {
      "text/plain": [
       "43.0"
      ]
     },
     "execution_count": 13,
     "metadata": {},
     "output_type": "execute_result"
    }
   ],
   "source": [
    "people_df.height.min()"
   ]
  },
  {
   "cell_type": "code",
   "execution_count": 14,
   "metadata": {},
   "outputs": [
    {
     "data": {
      "text/html": [
       "<div>\n",
       "<style scoped>\n",
       "    .dataframe tbody tr th:only-of-type {\n",
       "        vertical-align: middle;\n",
       "    }\n",
       "\n",
       "    .dataframe tbody tr th {\n",
       "        vertical-align: top;\n",
       "    }\n",
       "\n",
       "    .dataframe thead th {\n",
       "        text-align: right;\n",
       "    }\n",
       "</style>\n",
       "<table border=\"1\" class=\"dataframe\">\n",
       "  <thead>\n",
       "    <tr style=\"text-align: right;\">\n",
       "      <th></th>\n",
       "      <th>playerid</th>\n",
       "      <th>namefirst</th>\n",
       "      <th>namelast</th>\n",
       "      <th>height</th>\n",
       "    </tr>\n",
       "  </thead>\n",
       "  <tbody>\n",
       "    <tr>\n",
       "      <th>5843</th>\n",
       "      <td>gaedeed01</td>\n",
       "      <td>Eddie</td>\n",
       "      <td>Gaedel</td>\n",
       "      <td>43.0</td>\n",
       "    </tr>\n",
       "  </tbody>\n",
       "</table>\n",
       "</div>"
      ],
      "text/plain": [
       "       playerid namefirst namelast  height\n",
       "5843  gaedeed01     Eddie   Gaedel    43.0"
      ]
     },
     "execution_count": 14,
     "metadata": {},
     "output_type": "execute_result"
    }
   ],
   "source": [
    "shortest_player=people_df[['playerid','namefirst','namelast','height']]\n",
    "shortest_player=shortest_player.sort_values(by='height')\n",
    "shortest_player.head(1)"
   ]
  },
  {
   "cell_type": "code",
   "execution_count": 15,
   "metadata": {},
   "outputs": [
    {
     "data": {
      "text/html": [
       "<div>\n",
       "<style scoped>\n",
       "    .dataframe tbody tr th:only-of-type {\n",
       "        vertical-align: middle;\n",
       "    }\n",
       "\n",
       "    .dataframe tbody tr th {\n",
       "        vertical-align: top;\n",
       "    }\n",
       "\n",
       "    .dataframe thead th {\n",
       "        text-align: right;\n",
       "    }\n",
       "</style>\n",
       "<table border=\"1\" class=\"dataframe\">\n",
       "  <thead>\n",
       "    <tr style=\"text-align: right;\">\n",
       "      <th></th>\n",
       "      <th>playerid</th>\n",
       "      <th>teamid</th>\n",
       "      <th>g_all</th>\n",
       "    </tr>\n",
       "  </thead>\n",
       "  <tbody>\n",
       "    <tr>\n",
       "      <th>35173</th>\n",
       "      <td>gaedeed01</td>\n",
       "      <td>SLA</td>\n",
       "      <td>1</td>\n",
       "    </tr>\n",
       "  </tbody>\n",
       "</table>\n",
       "</div>"
      ],
      "text/plain": [
       "        playerid teamid  g_all\n",
       "35173  gaedeed01    SLA      1"
      ]
     },
     "execution_count": 15,
     "metadata": {},
     "output_type": "execute_result"
    }
   ],
   "source": [
    "#game count for shortest player\n",
    "shortest_player_appearances =  appearances_df[appearances_df['playerid']=='gaedeed01']\n",
    "shortest_player_appearances=shortest_player_appearances[['playerid', 'teamid', 'g_all']]\n",
    "shortest_player_appearances.head()"
   ]
  },
  {
   "cell_type": "code",
   "execution_count": 16,
   "metadata": {},
   "outputs": [
    {
     "data": {
      "text/html": [
       "<div>\n",
       "<style scoped>\n",
       "    .dataframe tbody tr th:only-of-type {\n",
       "        vertical-align: middle;\n",
       "    }\n",
       "\n",
       "    .dataframe tbody tr th {\n",
       "        vertical-align: top;\n",
       "    }\n",
       "\n",
       "    .dataframe thead th {\n",
       "        text-align: right;\n",
       "    }\n",
       "</style>\n",
       "<table border=\"1\" class=\"dataframe\">\n",
       "  <thead>\n",
       "    <tr style=\"text-align: right;\">\n",
       "      <th></th>\n",
       "      <th>teamid</th>\n",
       "      <th>name</th>\n",
       "    </tr>\n",
       "  </thead>\n",
       "  <tbody>\n",
       "    <tr>\n",
       "      <th>412</th>\n",
       "      <td>SLA</td>\n",
       "      <td>St. Louis Browns</td>\n",
       "    </tr>\n",
       "  </tbody>\n",
       "</table>\n",
       "</div>"
      ],
      "text/plain": [
       "    teamid              name\n",
       "412    SLA  St. Louis Browns"
      ]
     },
     "execution_count": 16,
     "metadata": {},
     "output_type": "execute_result"
    }
   ],
   "source": [
    "shortest_player_team =teams_df[teams_df['teamid']=='SLA']\n",
    "shortest_player_team=shortest_player_team[['teamid','name']]\n",
    "shortest_player_team.head(1)"
   ]
  },
  {
   "cell_type": "code",
   "execution_count": 17,
   "metadata": {},
   "outputs": [
    {
     "data": {
      "text/html": [
       "<div>\n",
       "<style scoped>\n",
       "    .dataframe tbody tr th:only-of-type {\n",
       "        vertical-align: middle;\n",
       "    }\n",
       "\n",
       "    .dataframe tbody tr th {\n",
       "        vertical-align: top;\n",
       "    }\n",
       "\n",
       "    .dataframe thead th {\n",
       "        text-align: right;\n",
       "    }\n",
       "</style>\n",
       "<table border=\"1\" class=\"dataframe\">\n",
       "  <thead>\n",
       "    <tr style=\"text-align: right;\">\n",
       "      <th></th>\n",
       "      <th>playerid</th>\n",
       "      <th>namefirst</th>\n",
       "      <th>namelast</th>\n",
       "      <th>height</th>\n",
       "      <th>teamid</th>\n",
       "      <th>g_all</th>\n",
       "      <th>name</th>\n",
       "    </tr>\n",
       "  </thead>\n",
       "  <tbody>\n",
       "    <tr>\n",
       "      <th>0</th>\n",
       "      <td>gaedeed01</td>\n",
       "      <td>Eddie</td>\n",
       "      <td>Gaedel</td>\n",
       "      <td>43.0</td>\n",
       "      <td>SLA</td>\n",
       "      <td>1</td>\n",
       "      <td>St. Louis Browns</td>\n",
       "    </tr>\n",
       "  </tbody>\n",
       "</table>\n",
       "</div>"
      ],
      "text/plain": [
       "    playerid namefirst namelast  height teamid  g_all              name\n",
       "0  gaedeed01     Eddie   Gaedel    43.0    SLA      1  St. Louis Browns"
      ]
     },
     "execution_count": 17,
     "metadata": {},
     "output_type": "execute_result"
    }
   ],
   "source": [
    "question_2_df= shortest_player.merge(shortest_player_appearances,on='playerid').merge(shortest_player_team,on='teamid')\n",
    "question_2_df.head(1)"
   ]
  },
  {
   "cell_type": "code",
   "execution_count": 18,
   "metadata": {},
   "outputs": [
    {
     "data": {
      "text/html": [
       "<div>\n",
       "<style scoped>\n",
       "    .dataframe tbody tr th:only-of-type {\n",
       "        vertical-align: middle;\n",
       "    }\n",
       "\n",
       "    .dataframe tbody tr th {\n",
       "        vertical-align: top;\n",
       "    }\n",
       "\n",
       "    .dataframe thead th {\n",
       "        text-align: right;\n",
       "    }\n",
       "</style>\n",
       "<table border=\"1\" class=\"dataframe\">\n",
       "  <thead>\n",
       "    <tr style=\"text-align: right;\">\n",
       "      <th></th>\n",
       "      <th>playerid</th>\n",
       "      <th>first_name</th>\n",
       "      <th>last_name</th>\n",
       "      <th>height</th>\n",
       "      <th>teamid</th>\n",
       "      <th>games_played</th>\n",
       "      <th>team</th>\n",
       "    </tr>\n",
       "  </thead>\n",
       "  <tbody>\n",
       "    <tr>\n",
       "      <th>0</th>\n",
       "      <td>gaedeed01</td>\n",
       "      <td>Eddie</td>\n",
       "      <td>Gaedel</td>\n",
       "      <td>43.0</td>\n",
       "      <td>SLA</td>\n",
       "      <td>1</td>\n",
       "      <td>St. Louis Browns</td>\n",
       "    </tr>\n",
       "  </tbody>\n",
       "</table>\n",
       "</div>"
      ],
      "text/plain": [
       "    playerid first_name last_name  height teamid  games_played  \\\n",
       "0  gaedeed01      Eddie    Gaedel    43.0    SLA             1   \n",
       "\n",
       "               team  \n",
       "0  St. Louis Browns  "
      ]
     },
     "execution_count": 18,
     "metadata": {},
     "output_type": "execute_result"
    }
   ],
   "source": [
    "question_2_df.rename({'namefirst': 'first_name',\n",
    "                                    'namelast':'last_name','name': 'team','g_all': 'games_played'},\n",
    "                                    axis=1, inplace=True)\n",
    "question_2_df.head(1)"
   ]
  },
  {
   "cell_type": "markdown",
   "metadata": {},
   "source": [
    "## Question 2 Eddie Gaedel was 43\" tall and played one game for the St. Louis Browns"
   ]
  },
  {
   "cell_type": "code",
   "execution_count": null,
   "metadata": {},
   "outputs": [],
   "source": [
    "# Find all players in the database who played at Vanderbilt University. \n",
    "# Create a list showing each player’s first and last names as well as the total salary they earned in the major leagues. \n",
    "# Sort this list in descending order by the total salary earned. \n",
    "# Which Vanderbilt player earned the most money in the majors?\n",
    "\n",
    "# Learned from prior research that tables: people, salaries, schools, collegeplaying hold this data\n",
    "# .. playerid firstname, lastneame from people\n",
    "#    playerid, salary from salaries\n",
    "#    playerid, schoolid from collegeplaying\n",
    "#    schoolid, schoolname from schools"
   ]
  },
  {
   "cell_type": "code",
   "execution_count": 26,
   "metadata": {},
   "outputs": [
    {
     "data": {
      "text/plain": [
       "Index(['schoolid', 'schoolname', 'schoolcity', 'schoolstate', 'schoolnick'], dtype='object')"
      ]
     },
     "execution_count": 26,
     "metadata": {},
     "output_type": "execute_result"
    }
   ],
   "source": [
    "schools_df.columns"
   ]
  },
  {
   "cell_type": "code",
   "execution_count": 31,
   "metadata": {},
   "outputs": [
    {
     "data": {
      "text/html": [
       "<div>\n",
       "<style scoped>\n",
       "    .dataframe tbody tr th:only-of-type {\n",
       "        vertical-align: middle;\n",
       "    }\n",
       "\n",
       "    .dataframe tbody tr th {\n",
       "        vertical-align: top;\n",
       "    }\n",
       "\n",
       "    .dataframe thead th {\n",
       "        text-align: right;\n",
       "    }\n",
       "</style>\n",
       "<table border=\"1\" class=\"dataframe\">\n",
       "  <thead>\n",
       "    <tr style=\"text-align: right;\">\n",
       "      <th></th>\n",
       "      <th>schoolid</th>\n",
       "      <th>schoolname</th>\n",
       "    </tr>\n",
       "  </thead>\n",
       "  <tbody>\n",
       "    <tr>\n",
       "      <th>1110</th>\n",
       "      <td>vandy</td>\n",
       "      <td>Vanderbilt University</td>\n",
       "    </tr>\n",
       "  </tbody>\n",
       "</table>\n",
       "</div>"
      ],
      "text/plain": [
       "     schoolid             schoolname\n",
       "1110    vandy  Vanderbilt University"
      ]
     },
     "execution_count": 31,
     "metadata": {},
     "output_type": "execute_result"
    }
   ],
   "source": [
    "school=schools_df[schools_df.schoolname.str.startswith('Vand')]\n",
    "school=school[['schoolid','schoolname']]\n",
    "school.head()"
   ]
  },
  {
   "cell_type": "code",
   "execution_count": 33,
   "metadata": {},
   "outputs": [
    {
     "data": {
      "text/plain": [
       "Index(['playerid', 'schoolid', 'yearid'], dtype='object')"
      ]
     },
     "execution_count": 33,
     "metadata": {},
     "output_type": "execute_result"
    }
   ],
   "source": [
    "collegeplaying_df.columns"
   ]
  },
  {
   "cell_type": "code",
   "execution_count": 32,
   "metadata": {},
   "outputs": [
    {
     "data": {
      "text/plain": [
       "Index(['playerid', 'birthyear', 'birthmonth', 'birthday', 'birthcountry',\n",
       "       'birthstate', 'birthcity', 'deathyear', 'deathmonth', 'deathday',\n",
       "       'deathcountry', 'deathstate', 'deathcity', 'namefirst', 'namelast',\n",
       "       'namegiven', 'weight', 'height', 'bats', 'throws', 'debut', 'finalgame',\n",
       "       'retroid', 'bbrefid'],\n",
       "      dtype='object')"
      ]
     },
     "execution_count": 32,
     "metadata": {},
     "output_type": "execute_result"
    }
   ],
   "source": [
    "people_df.columns"
   ]
  },
  {
   "cell_type": "code",
   "execution_count": 51,
   "metadata": {},
   "outputs": [
    {
     "data": {
      "text/plain": [
       "Index(['yearid', 'teamid', 'lgid', 'playerid', 'salary'], dtype='object')"
      ]
     },
     "execution_count": 51,
     "metadata": {},
     "output_type": "execute_result"
    }
   ],
   "source": [
    "salaries_df.columns"
   ]
  },
  {
   "cell_type": "code",
   "execution_count": 50,
   "metadata": {},
   "outputs": [
    {
     "data": {
      "text/html": [
       "<div>\n",
       "<style scoped>\n",
       "    .dataframe tbody tr th:only-of-type {\n",
       "        vertical-align: middle;\n",
       "    }\n",
       "\n",
       "    .dataframe tbody tr th {\n",
       "        vertical-align: top;\n",
       "    }\n",
       "\n",
       "    .dataframe thead th {\n",
       "        text-align: right;\n",
       "    }\n",
       "</style>\n",
       "<table border=\"1\" class=\"dataframe\">\n",
       "  <thead>\n",
       "    <tr style=\"text-align: right;\">\n",
       "      <th></th>\n",
       "      <th>playerid</th>\n",
       "      <th>schoolid</th>\n",
       "    </tr>\n",
       "  </thead>\n",
       "  <tbody>\n",
       "    <tr>\n",
       "      <th>232</th>\n",
       "      <td>alvarpe01</td>\n",
       "      <td>vandy</td>\n",
       "    </tr>\n",
       "  </tbody>\n",
       "</table>\n",
       "</div>"
      ],
      "text/plain": [
       "      playerid schoolid\n",
       "232  alvarpe01    vandy"
      ]
     },
     "execution_count": 50,
     "metadata": {},
     "output_type": "execute_result"
    }
   ],
   "source": [
    "# isolate the Vanderbilt school id\n",
    "player_school=collegeplaying_df[collegeplaying_df.schoolid.str.startswith('vandy')]\n",
    "player_school=player_school[['playerid','schoolid']]\n",
    "player_school.head(1)"
   ]
  },
  {
   "cell_type": "code",
   "execution_count": 43,
   "metadata": {},
   "outputs": [
    {
     "name": "stdout",
     "output_type": "stream",
     "text": [
      "['alvarpe01' 'baxtemi01' 'chrisni01' 'colliwi01' 'corajo01' 'embresl01'\n",
      " 'flahery01' 'grayso01' 'hendrha01' 'katama01' 'lewisje01' 'madissc01'\n",
      " 'minormi01' 'mooresc01' 'mossma01' 'pauljo01' 'priceda01' 'priorma01'\n",
      " 'richaan01' 'sandesc01' 'sewelri01' 'sowerje01' 'willimi01' 'zeidjo01']\n"
     ]
    }
   ],
   "source": [
    "# identify the Vandy Players\n",
    "print(player_school.playerid.unique())"
   ]
  },
  {
   "cell_type": "code",
   "execution_count": 54,
   "metadata": {},
   "outputs": [
    {
     "data": {
      "text/html": [
       "<div>\n",
       "<style scoped>\n",
       "    .dataframe tbody tr th:only-of-type {\n",
       "        vertical-align: middle;\n",
       "    }\n",
       "\n",
       "    .dataframe tbody tr th {\n",
       "        vertical-align: top;\n",
       "    }\n",
       "\n",
       "    .dataframe thead th {\n",
       "        text-align: right;\n",
       "    }\n",
       "</style>\n",
       "<table border=\"1\" class=\"dataframe\">\n",
       "  <thead>\n",
       "    <tr style=\"text-align: right;\">\n",
       "      <th></th>\n",
       "      <th>playerid</th>\n",
       "      <th>schoolid</th>\n",
       "      <th>schoolname</th>\n",
       "      <th>birthyear</th>\n",
       "      <th>birthmonth</th>\n",
       "      <th>birthday</th>\n",
       "      <th>birthcountry</th>\n",
       "      <th>birthstate</th>\n",
       "      <th>birthcity</th>\n",
       "      <th>deathyear</th>\n",
       "      <th>...</th>\n",
       "      <th>bats</th>\n",
       "      <th>throws</th>\n",
       "      <th>debut</th>\n",
       "      <th>finalgame</th>\n",
       "      <th>retroid</th>\n",
       "      <th>bbrefid</th>\n",
       "      <th>yearid</th>\n",
       "      <th>teamid</th>\n",
       "      <th>lgid</th>\n",
       "      <th>salary</th>\n",
       "    </tr>\n",
       "  </thead>\n",
       "  <tbody>\n",
       "    <tr>\n",
       "      <th>0</th>\n",
       "      <td>alvarpe01</td>\n",
       "      <td>vandy</td>\n",
       "      <td>Vanderbilt University</td>\n",
       "      <td>1987.0</td>\n",
       "      <td>2.0</td>\n",
       "      <td>6.0</td>\n",
       "      <td>D.R.</td>\n",
       "      <td>Distrito Nacional</td>\n",
       "      <td>Santo Domingo</td>\n",
       "      <td>NaN</td>\n",
       "      <td>...</td>\n",
       "      <td>L</td>\n",
       "      <td>R</td>\n",
       "      <td>2010-06-16</td>\n",
       "      <td>2016-10-01</td>\n",
       "      <td>alvap001</td>\n",
       "      <td>alvarpe01</td>\n",
       "      <td>2011</td>\n",
       "      <td>PIT</td>\n",
       "      <td>NL</td>\n",
       "      <td>2050000.0</td>\n",
       "    </tr>\n",
       "    <tr>\n",
       "      <th>1</th>\n",
       "      <td>alvarpe01</td>\n",
       "      <td>vandy</td>\n",
       "      <td>Vanderbilt University</td>\n",
       "      <td>1987.0</td>\n",
       "      <td>2.0</td>\n",
       "      <td>6.0</td>\n",
       "      <td>D.R.</td>\n",
       "      <td>Distrito Nacional</td>\n",
       "      <td>Santo Domingo</td>\n",
       "      <td>NaN</td>\n",
       "      <td>...</td>\n",
       "      <td>L</td>\n",
       "      <td>R</td>\n",
       "      <td>2010-06-16</td>\n",
       "      <td>2016-10-01</td>\n",
       "      <td>alvap001</td>\n",
       "      <td>alvarpe01</td>\n",
       "      <td>2012</td>\n",
       "      <td>PIT</td>\n",
       "      <td>NL</td>\n",
       "      <td>2200000.0</td>\n",
       "    </tr>\n",
       "    <tr>\n",
       "      <th>2</th>\n",
       "      <td>alvarpe01</td>\n",
       "      <td>vandy</td>\n",
       "      <td>Vanderbilt University</td>\n",
       "      <td>1987.0</td>\n",
       "      <td>2.0</td>\n",
       "      <td>6.0</td>\n",
       "      <td>D.R.</td>\n",
       "      <td>Distrito Nacional</td>\n",
       "      <td>Santo Domingo</td>\n",
       "      <td>NaN</td>\n",
       "      <td>...</td>\n",
       "      <td>L</td>\n",
       "      <td>R</td>\n",
       "      <td>2010-06-16</td>\n",
       "      <td>2016-10-01</td>\n",
       "      <td>alvap001</td>\n",
       "      <td>alvarpe01</td>\n",
       "      <td>2013</td>\n",
       "      <td>PIT</td>\n",
       "      <td>NL</td>\n",
       "      <td>700000.0</td>\n",
       "    </tr>\n",
       "    <tr>\n",
       "      <th>3</th>\n",
       "      <td>alvarpe01</td>\n",
       "      <td>vandy</td>\n",
       "      <td>Vanderbilt University</td>\n",
       "      <td>1987.0</td>\n",
       "      <td>2.0</td>\n",
       "      <td>6.0</td>\n",
       "      <td>D.R.</td>\n",
       "      <td>Distrito Nacional</td>\n",
       "      <td>Santo Domingo</td>\n",
       "      <td>NaN</td>\n",
       "      <td>...</td>\n",
       "      <td>L</td>\n",
       "      <td>R</td>\n",
       "      <td>2010-06-16</td>\n",
       "      <td>2016-10-01</td>\n",
       "      <td>alvap001</td>\n",
       "      <td>alvarpe01</td>\n",
       "      <td>2014</td>\n",
       "      <td>PIT</td>\n",
       "      <td>NL</td>\n",
       "      <td>4250000.0</td>\n",
       "    </tr>\n",
       "    <tr>\n",
       "      <th>4</th>\n",
       "      <td>alvarpe01</td>\n",
       "      <td>vandy</td>\n",
       "      <td>Vanderbilt University</td>\n",
       "      <td>1987.0</td>\n",
       "      <td>2.0</td>\n",
       "      <td>6.0</td>\n",
       "      <td>D.R.</td>\n",
       "      <td>Distrito Nacional</td>\n",
       "      <td>Santo Domingo</td>\n",
       "      <td>NaN</td>\n",
       "      <td>...</td>\n",
       "      <td>L</td>\n",
       "      <td>R</td>\n",
       "      <td>2010-06-16</td>\n",
       "      <td>2016-10-01</td>\n",
       "      <td>alvap001</td>\n",
       "      <td>alvarpe01</td>\n",
       "      <td>2015</td>\n",
       "      <td>PIT</td>\n",
       "      <td>NL</td>\n",
       "      <td>5750000.0</td>\n",
       "    </tr>\n",
       "  </tbody>\n",
       "</table>\n",
       "<p>5 rows × 30 columns</p>\n",
       "</div>"
      ],
      "text/plain": [
       "    playerid schoolid             schoolname  birthyear  birthmonth  birthday  \\\n",
       "0  alvarpe01    vandy  Vanderbilt University     1987.0         2.0       6.0   \n",
       "1  alvarpe01    vandy  Vanderbilt University     1987.0         2.0       6.0   \n",
       "2  alvarpe01    vandy  Vanderbilt University     1987.0         2.0       6.0   \n",
       "3  alvarpe01    vandy  Vanderbilt University     1987.0         2.0       6.0   \n",
       "4  alvarpe01    vandy  Vanderbilt University     1987.0         2.0       6.0   \n",
       "\n",
       "  birthcountry         birthstate      birthcity  deathyear  ...  bats  \\\n",
       "0         D.R.  Distrito Nacional  Santo Domingo        NaN  ...     L   \n",
       "1         D.R.  Distrito Nacional  Santo Domingo        NaN  ...     L   \n",
       "2         D.R.  Distrito Nacional  Santo Domingo        NaN  ...     L   \n",
       "3         D.R.  Distrito Nacional  Santo Domingo        NaN  ...     L   \n",
       "4         D.R.  Distrito Nacional  Santo Domingo        NaN  ...     L   \n",
       "\n",
       "   throws       debut   finalgame   retroid    bbrefid yearid teamid  lgid  \\\n",
       "0       R  2010-06-16  2016-10-01  alvap001  alvarpe01   2011    PIT    NL   \n",
       "1       R  2010-06-16  2016-10-01  alvap001  alvarpe01   2012    PIT    NL   \n",
       "2       R  2010-06-16  2016-10-01  alvap001  alvarpe01   2013    PIT    NL   \n",
       "3       R  2010-06-16  2016-10-01  alvap001  alvarpe01   2014    PIT    NL   \n",
       "4       R  2010-06-16  2016-10-01  alvap001  alvarpe01   2015    PIT    NL   \n",
       "\n",
       "      salary  \n",
       "0  2050000.0  \n",
       "1  2200000.0  \n",
       "2   700000.0  \n",
       "3  4250000.0  \n",
       "4  5750000.0  \n",
       "\n",
       "[5 rows x 30 columns]"
      ]
     },
     "execution_count": 54,
     "metadata": {},
     "output_type": "execute_result"
    }
   ],
   "source": [
    "# join playerid from collegeplaying to people for namefirst and namelast filtered to the Vandy players list\n",
    "# add salaries from salaries also joined on playerid = need to sum salaries and have unique rocords one per player\n",
    "question_3_df= player_school.merge(school,on='schoolid').merge(people_df,on='playerid').merge(salaries_df,on='playerid')\n",
    "question_3_df.head(5)"
   ]
  },
  {
   "cell_type": "code",
   "execution_count": 73,
   "metadata": {},
   "outputs": [
    {
     "ename": "AttributeError",
     "evalue": "'function' object has no attribute 'groupby'",
     "output_type": "error",
     "traceback": [
      "\u001b[1;31m---------------------------------------------------------------------------\u001b[0m",
      "\u001b[1;31mAttributeError\u001b[0m                            Traceback (most recent call last)",
      "\u001b[1;32m<ipython-input-73-f5fe82712384>\u001b[0m in \u001b[0;36m<module>\u001b[1;34m\u001b[0m\n\u001b[1;32m----> 1\u001b[1;33m \u001b[0mquestion_3_df\u001b[0m\u001b[1;33m.\u001b[0m\u001b[0mgroupby\u001b[0m\u001b[1;33m(\u001b[0m\u001b[1;33m[\u001b[0m\u001b[1;34m'schoolname'\u001b[0m\u001b[1;33m,\u001b[0m\u001b[1;34m'namefirst'\u001b[0m\u001b[1;33m,\u001b[0m\u001b[1;34m'namelast'\u001b[0m\u001b[1;33m]\u001b[0m\u001b[1;33m)\u001b[0m\u001b[1;33m[\u001b[0m\u001b[1;34m'salary'\u001b[0m\u001b[1;33m]\u001b[0m\u001b[1;33m.\u001b[0m\u001b[0msum\u001b[0m\u001b[1;33m(\u001b[0m\u001b[1;33m)\u001b[0m\u001b[1;33m\u001b[0m\u001b[1;33m\u001b[0m\u001b[0m\n\u001b[0m\u001b[0;32m      2\u001b[0m \u001b[0mquestion_3_df\u001b[0m \u001b[1;33m=\u001b[0m \u001b[0mquestion_3_df\u001b[0m\u001b[1;33m.\u001b[0m\u001b[0msort_values\u001b[0m\u001b[1;33m(\u001b[0m\u001b[0mby\u001b[0m\u001b[1;33m=\u001b[0m\u001b[1;34m'salary'\u001b[0m\u001b[1;33m,\u001b[0m \u001b[0mascending\u001b[0m\u001b[1;33m=\u001b[0m\u001b[1;32mFalse\u001b[0m\u001b[1;33m)\u001b[0m\u001b[1;33m\u001b[0m\u001b[1;33m\u001b[0m\u001b[0m\n\u001b[0;32m      3\u001b[0m \u001b[0mquestion_3_df\u001b[0m\u001b[1;33m.\u001b[0m\u001b[0mhead\u001b[0m\u001b[1;33m(\u001b[0m\u001b[1;33m)\u001b[0m\u001b[1;33m\u001b[0m\u001b[1;33m\u001b[0m\u001b[0m\n",
      "\u001b[1;31mAttributeError\u001b[0m: 'function' object has no attribute 'groupby'"
     ]
    }
   ],
   "source": [
    "question_3_df.groupby(['schoolname','namefirst','namelast'])['salary'].sum()\n",
    "\n",
    "question_3_df.head()"
   ]
  },
  {
   "cell_type": "code",
   "execution_count": 74,
   "metadata": {},
   "outputs": [
    {
     "ename": "AttributeError",
     "evalue": "'function' object has no attribute 'sort_values'",
     "output_type": "error",
     "traceback": [
      "\u001b[1;31m---------------------------------------------------------------------------\u001b[0m",
      "\u001b[1;31mAttributeError\u001b[0m                            Traceback (most recent call last)",
      "\u001b[1;32m<ipython-input-74-293164a92b50>\u001b[0m in \u001b[0;36m<module>\u001b[1;34m\u001b[0m\n\u001b[1;32m----> 1\u001b[1;33m \u001b[0mquestion_3_df\u001b[0m \u001b[1;33m=\u001b[0m \u001b[0mquestion_3_df\u001b[0m\u001b[1;33m.\u001b[0m\u001b[0msort_values\u001b[0m\u001b[1;33m(\u001b[0m\u001b[0mby\u001b[0m\u001b[1;33m=\u001b[0m\u001b[1;34m'salary'\u001b[0m\u001b[1;33m,\u001b[0m \u001b[0mascending\u001b[0m\u001b[1;33m=\u001b[0m\u001b[1;32mFalse\u001b[0m\u001b[1;33m)\u001b[0m\u001b[1;33m\u001b[0m\u001b[1;33m\u001b[0m\u001b[0m\n\u001b[0m",
      "\u001b[1;31mAttributeError\u001b[0m: 'function' object has no attribute 'sort_values'"
     ]
    }
   ],
   "source": [
    "question_3_df = question_3_df.sort_values(by='salary', ascending=False)"
   ]
  },
  {
   "cell_type": "code",
   "execution_count": null,
   "metadata": {},
   "outputs": [],
   "source": []
  }
 ],
 "metadata": {
  "kernelspec": {
   "display_name": "Python 3",
   "language": "python",
   "name": "python3"
  },
  "language_info": {
   "codemirror_mode": {
    "name": "ipython",
    "version": 3
   },
   "file_extension": ".py",
   "mimetype": "text/x-python",
   "name": "python",
   "nbconvert_exporter": "python",
   "pygments_lexer": "ipython3",
   "version": "3.8.2"
  }
 },
 "nbformat": 4,
 "nbformat_minor": 4
}
